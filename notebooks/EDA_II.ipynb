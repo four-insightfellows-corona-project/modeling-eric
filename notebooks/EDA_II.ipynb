{
 "cells": [
  {
   "cell_type": "code",
   "execution_count": 1,
   "metadata": {},
   "outputs": [],
   "source": [
    "import pandas as pd\n",
    "import numpy as np"
   ]
  },
  {
   "cell_type": "code",
   "execution_count": 2,
   "metadata": {},
   "outputs": [],
   "source": [
    "intro = \"/media/eric/nachmanides/programming/projects/post-program_project/\"\n",
    "df = pd.read_pickle(intro+\"modeling-eric/data/final_df.pkl\")"
   ]
  },
  {
   "cell_type": "code",
   "execution_count": 3,
   "metadata": {},
   "outputs": [
    {
     "name": "stdout",
     "output_type": "stream",
     "text": [
      "<class 'pandas.core.frame.DataFrame'>\n",
      "DatetimeIndex: 1939 entries, 2020-03-23 00:05:00 to 2020-04-14 19:20:00\n",
      "Data columns (total 30 columns):\n",
      "safe                      1939 non-null float64\n",
      "current_popularity        447 non-null float64\n",
      "clouds                    484 non-null float64\n",
      "rain_1h                   484 non-null float64\n",
      "snow_1h                   484 non-null float64\n",
      "wind_speed                484 non-null float64\n",
      "wind_deg                  484 non-null float64\n",
      "press                     484 non-null float64\n",
      "temp                      484 non-null float64\n",
      "temp_feels                484 non-null float64\n",
      "temp_max                  484 non-null float64\n",
      "temp_min                  484 non-null float64\n",
      "sunrise_time              484 non-null datetime64[ns]\n",
      "sunset_time               484 non-null datetime64[ns]\n",
      "temperature               1917 non-null float64\n",
      "dewpoint                  1917 non-null float64\n",
      "humidity                  1917 non-null float64\n",
      "precipitation             1917 non-null float64\n",
      "windspeed                 1917 non-null float64\n",
      "winddirection             1917 non-null float64\n",
      "pressure                  1917 non-null float64\n",
      "broken clouds             484 non-null float64\n",
      "clear sky                 484 non-null float64\n",
      "few clouds                484 non-null float64\n",
      "light rain                484 non-null float64\n",
      "mist                      484 non-null float64\n",
      "moderate rain             484 non-null float64\n",
      "overcast clouds           484 non-null float64\n",
      "scattered clouds          484 non-null float64\n",
      "thunderstorm with rain    484 non-null float64\n",
      "dtypes: datetime64[ns](2), float64(28)\n",
      "memory usage: 469.6 KB\n"
     ]
    }
   ],
   "source": [
    "df.info()"
   ]
  },
  {
   "cell_type": "code",
   "execution_count": 4,
   "metadata": {},
   "outputs": [
    {
     "name": "stdout",
     "output_type": "stream",
     "text": [
      "safe : 3\n",
      "current_popularity : 109\n",
      "clouds : 13\n",
      "rain_1h : 31\n",
      "snow_1h : 2\n",
      "wind_speed : 81\n",
      "wind_deg : 86\n",
      "press : 50\n",
      "temp : 422\n",
      "temp_feels : 436\n",
      "temp_max : 75\n",
      "temp_min : 63\n",
      "sunrise_time : 8\n",
      "sunset_time : 8\n",
      "temperature : 241\n",
      "dewpoint : 566\n",
      "humidity : 262\n",
      "precipitation : 90\n",
      "windspeed : 248\n",
      "winddirection : 146\n",
      "pressure : 808\n",
      "broken clouds : 3\n",
      "clear sky : 3\n",
      "few clouds : 3\n",
      "light rain : 3\n",
      "mist : 3\n",
      "moderate rain : 3\n",
      "overcast clouds : 3\n",
      "scattered clouds : 3\n",
      "thunderstorm with rain : 3\n"
     ]
    }
   ],
   "source": [
    "for column in df.columns:\n",
    "    print(column, \":\", len(pd.unique(df[column])))"
   ]
  },
  {
   "cell_type": "code",
   "execution_count": 5,
   "metadata": {
    "scrolled": false
   },
   "outputs": [
    {
     "name": "stderr",
     "output_type": "stream",
     "text": [
      "/home/eric/anaconda3/lib/python3.7/site-packages/numpy/lib/histograms.py:829: RuntimeWarning: invalid value encountered in greater_equal\n",
      "  keep = (tmp_a >= first_edge)\n",
      "/home/eric/anaconda3/lib/python3.7/site-packages/numpy/lib/histograms.py:830: RuntimeWarning: invalid value encountered in less_equal\n",
      "  keep &= (tmp_a <= last_edge)\n"
     ]
    },
    {
     "data": {
      "text/plain": [
       "<Figure size 640x480 with 1 Axes>"
      ]
     },
     "metadata": {},
     "output_type": "display_data"
    },
    {
     "data": {
      "text/plain": [
       "<Figure size 640x480 with 1 Axes>"
      ]
     },
     "metadata": {},
     "output_type": "display_data"
    },
    {
     "data": {
      "text/plain": [
       "<Figure size 640x480 with 1 Axes>"
      ]
     },
     "metadata": {},
     "output_type": "display_data"
    },
    {
     "data": {
      "text/plain": [
       "<Figure size 640x480 with 1 Axes>"
      ]
     },
     "metadata": {},
     "output_type": "display_data"
    },
    {
     "data": {
      "text/plain": [
       "<Figure size 640x480 with 1 Axes>"
      ]
     },
     "metadata": {},
     "output_type": "display_data"
    },
    {
     "data": {
      "text/plain": [
       "<Figure size 640x480 with 1 Axes>"
      ]
     },
     "metadata": {},
     "output_type": "display_data"
    },
    {
     "data": {
      "text/plain": [
       "<Figure size 640x480 with 1 Axes>"
      ]
     },
     "metadata": {},
     "output_type": "display_data"
    },
    {
     "data": {
      "text/plain": [
       "<Figure size 640x480 with 1 Axes>"
      ]
     },
     "metadata": {},
     "output_type": "display_data"
    },
    {
     "data": {
      "text/plain": [
       "<Figure size 640x480 with 1 Axes>"
      ]
     },
     "metadata": {},
     "output_type": "display_data"
    },
    {
     "data": {
      "text/plain": [
       "<Figure size 640x480 with 1 Axes>"
      ]
     },
     "metadata": {},
     "output_type": "display_data"
    },
    {
     "name": "stderr",
     "output_type": "stream",
     "text": [
      "/home/eric/anaconda3/lib/python3.7/site-packages/pandas/plotting/_matplotlib/converter.py:103: FutureWarning: Using an implicitly registered datetime converter for a matplotlib plotting method. The converter was registered by pandas on import. Future versions of pandas will require you to explicitly register matplotlib converters.\n",
      "\n",
      "To register the converters:\n",
      "\t>>> from pandas.plotting import register_matplotlib_converters\n",
      "\t>>> register_matplotlib_converters()\n",
      "  warnings.warn(msg, FutureWarning)\n"
     ]
    },
    {
     "data": {
      "text/plain": [
       "<Figure size 640x480 with 1 Axes>"
      ]
     },
     "metadata": {},
     "output_type": "display_data"
    },
    {
     "data": {
      "text/plain": [
       "<Figure size 640x480 with 1 Axes>"
      ]
     },
     "metadata": {},
     "output_type": "display_data"
    },
    {
     "data": {
      "text/plain": [
       "<Figure size 640x480 with 1 Axes>"
      ]
     },
     "metadata": {},
     "output_type": "display_data"
    },
    {
     "data": {
      "text/plain": [
       "<Figure size 640x480 with 1 Axes>"
      ]
     },
     "metadata": {},
     "output_type": "display_data"
    },
    {
     "data": {
      "text/plain": [
       "<Figure size 640x480 with 1 Axes>"
      ]
     },
     "metadata": {},
     "output_type": "display_data"
    },
    {
     "data": {
      "text/plain": [
       "<Figure size 640x480 with 1 Axes>"
      ]
     },
     "metadata": {},
     "output_type": "display_data"
    },
    {
     "data": {
      "text/plain": [
       "<Figure size 640x480 with 1 Axes>"
      ]
     },
     "metadata": {},
     "output_type": "display_data"
    },
    {
     "data": {
      "text/plain": [
       "<Figure size 640x480 with 1 Axes>"
      ]
     },
     "metadata": {},
     "output_type": "display_data"
    },
    {
     "data": {
      "text/plain": [
       "<Figure size 640x480 with 1 Axes>"
      ]
     },
     "metadata": {},
     "output_type": "display_data"
    }
   ],
   "source": [
    "import matplotlib.pyplot as plt\n",
    "plt.style.use(\"ggplot\")\n",
    "for column in df.columns:\n",
    "    if len(pd.unique(df[column])) > 3:\n",
    "        plt.hist(df[column])\n",
    "        plt.title(column)\n",
    "        plt.ylabel(\"# timebins with that value\")\n",
    "        plt.xlabel(\"value for \" + column)\n",
    "        plt.savefig(intro + \"modeling-eric/visualizations/\" + column + \".png\")\n",
    "        plt.show()"
   ]
  }
 ],
 "metadata": {
  "kernelspec": {
   "display_name": "Python 3",
   "language": "python",
   "name": "python3"
  },
  "language_info": {
   "codemirror_mode": {
    "name": "ipython",
    "version": 3
   },
   "file_extension": ".py",
   "mimetype": "text/x-python",
   "name": "python",
   "nbconvert_exporter": "python",
   "pygments_lexer": "ipython3",
   "version": "3.7.4"
  }
 },
 "nbformat": 4,
 "nbformat_minor": 2
}
