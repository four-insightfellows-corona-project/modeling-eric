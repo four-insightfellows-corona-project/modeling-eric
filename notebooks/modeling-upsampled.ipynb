{
 "cells": [
  {
   "cell_type": "markdown",
   "metadata": {},
   "source": [
    "## Fit and Validate a Logistic Regression"
   ]
  },
  {
   "cell_type": "code",
   "execution_count": 1,
   "metadata": {},
   "outputs": [],
   "source": [
    "import pandas as pd\n",
    "import numpy as np\n",
    "from sklearn.preprocessing import StandardScaler, label_binarize\n",
    "from sklearn.linear_model import LogisticRegression\n",
    "from sklearn.model_selection import TimeSeriesSplit\n",
    "from sklearn.pipeline import Pipeline\n",
    "from sklearn.metrics import accuracy_score, precision_score, recall_score,roc_auc_score, auc, roc_curve\n",
    "from sklearn.multiclass import OneVsRestClassifier"
   ]
  },
  {
   "cell_type": "code",
   "execution_count": 2,
   "metadata": {},
   "outputs": [],
   "source": [
    "intro = \"/media/eric/nachmanides/programming/projects/post-program_project/\"\n",
    "df = pd.read_pickle(intro+\"modeling-eric/data/final_df.pkl\")"
   ]
  },
  {
   "cell_type": "code",
   "execution_count": 3,
   "metadata": {},
   "outputs": [],
   "source": [
    "# OPTIONAL: Drop all NAs in the response variable\n",
    "# df = df[(df.safe == 0.0) | (df.safe == 1.0)]"
   ]
  },
  {
   "cell_type": "markdown",
   "metadata": {},
   "source": [
    "### Preprocessing"
   ]
  },
  {
   "cell_type": "markdown",
   "metadata": {},
   "source": [
    "#### Find a manageable way to represent the sunrise and sunset times"
   ]
  },
  {
   "cell_type": "code",
   "execution_count": 4,
   "metadata": {},
   "outputs": [],
   "source": [
    "# Let the sunrise_delta and sunset_delta be, for the day of each timebin, the elapsed \n",
    "# time between midnight of that day and sunrise (respectively, sunset) on that day. \n",
    "\n",
    "midnight = df['sunrise_time'].apply(lambda x: x.round(freq = 'd'))\n",
    "df['sunrise_delta'] = (df['sunrise_time'] - midnight)  / np.timedelta64(1,'m')\n",
    "df['sunset_delta'] = (df['sunset_time'] - midnight)  / np.timedelta64(1,'m')"
   ]
  },
  {
   "cell_type": "code",
   "execution_count": 5,
   "metadata": {},
   "outputs": [],
   "source": [
    "# We will now drop sunrise time and sunset time, since those predictors are hard to \n",
    "# compare with the others, and NaTs can't be fed into StandardScaler. We will \n",
    "# instead use sunrise_delta and sunset_delta as measures of how early or late \n",
    "# sunrise and sunset are on each day. \n",
    "df = df.drop(['sunrise_time','sunset_time'],axis=1)"
   ]
  },
  {
   "cell_type": "markdown",
   "metadata": {},
   "source": [
    "#### Further Preprocessing: \n",
    "#### 1. Upsample minority class of 0 and 1 to make them even and then upsample both 0 and 1 classes.\n",
    "#### 2. Differentiate predictors from response\n",
    "#### 3. Fill predictor NAs with column means\n",
    "#### 4. Standardize predictors\n",
    "#### 5. Binarize categorical predictors"
   ]
  },
  {
   "cell_type": "code",
   "execution_count": 6,
   "metadata": {},
   "outputs": [
    {
     "data": {
      "text/plain": [
       "0.0    1878\n",
       "1.0    1878\n",
       "2.0    1878\n",
       "Name: safe, dtype: int64"
      ]
     },
     "execution_count": 6,
     "metadata": {},
     "output_type": "execute_result"
    }
   ],
   "source": [
    "# to deal with unbalanced data, try upsampling\n",
    "from sklearn.utils import resample\n",
    "\n",
    "# Separate majority and minority classes\n",
    "df_mj = df[df.safe==0.0] # safe\n",
    "df_mi = df[df.safe==1.0] # unsafe\n",
    "df_na = df[df.safe==2.0] # don't know\n",
    " \n",
    "# Upsample minority class, with replacement \n",
    "df_mi_up = resample(df_mi, replace=True, n_samples=len(df_na), random_state=42) \n",
    "df_mj_up = resample(df_mj, replace=True, n_samples=len(df_na), random_state=42) \n",
    "\n",
    "# Combine majority class with upsampled minority class\n",
    "df_up= pd.concat([df_mj_up, df_mi_up, df_na])\n",
    "\n",
    "# Re-sort index so our timebins are ordered again\n",
    "df_up = df_up.sort_index()\n",
    "\n",
    "# Set variable 'df' to df_up\n",
    "df = df_up\n",
    "\n",
    "# Display new class counts\n",
    "df.safe.value_counts()"
   ]
  },
  {
   "cell_type": "code",
   "execution_count": 7,
   "metadata": {},
   "outputs": [],
   "source": [
    "# Get just the unprocessed predictor columns\n",
    "pred = df.drop('safe',axis=1)\n",
    "\n",
    "# Impute means of each column\n",
    "pred = pred.fillna(pred.mean())\n",
    "\n",
    "# Standardize the predictors\n",
    "scaler = StandardScaler()\n",
    "scaler.fit(pred)\n",
    "\n",
    "# # Define the predictors that we will train on\n",
    "X = scaler.transform(pred)\n",
    "\n",
    "# Binarize the response variable classes and save the result as our response \"column(s)\"\n",
    "y = df.safe\n",
    "y = label_binarize(y, classes=[0, 1, 2])\n",
    "n_classes = y.shape[1]"
   ]
  },
  {
   "cell_type": "markdown",
   "metadata": {},
   "source": [
    "### Split, Train, and Validate our Classifier"
   ]
  },
  {
   "cell_type": "code",
   "execution_count": 8,
   "metadata": {
    "scrolled": true
   },
   "outputs": [
    {
     "name": "stderr",
     "output_type": "stream",
     "text": [
      "/home/eric/anaconda3/lib/python3.7/site-packages/sklearn/linear_model/logistic.py:432: FutureWarning: Default solver will be changed to 'lbfgs' in 0.22. Specify a solver to silence this warning.\n",
      "  FutureWarning)\n",
      "/home/eric/anaconda3/lib/python3.7/site-packages/sklearn/linear_model/logistic.py:432: FutureWarning: Default solver will be changed to 'lbfgs' in 0.22. Specify a solver to silence this warning.\n",
      "  FutureWarning)\n",
      "/home/eric/anaconda3/lib/python3.7/site-packages/sklearn/linear_model/logistic.py:432: FutureWarning: Default solver will be changed to 'lbfgs' in 0.22. Specify a solver to silence this warning.\n",
      "  FutureWarning)\n",
      "/home/eric/anaconda3/lib/python3.7/site-packages/sklearn/linear_model/logistic.py:432: FutureWarning: Default solver will be changed to 'lbfgs' in 0.22. Specify a solver to silence this warning.\n",
      "  FutureWarning)\n",
      "/home/eric/anaconda3/lib/python3.7/site-packages/sklearn/linear_model/logistic.py:432: FutureWarning: Default solver will be changed to 'lbfgs' in 0.22. Specify a solver to silence this warning.\n",
      "  FutureWarning)\n",
      "/home/eric/anaconda3/lib/python3.7/site-packages/sklearn/linear_model/logistic.py:432: FutureWarning: Default solver will be changed to 'lbfgs' in 0.22. Specify a solver to silence this warning.\n",
      "  FutureWarning)\n",
      "/home/eric/anaconda3/lib/python3.7/site-packages/sklearn/metrics/classification.py:1437: UndefinedMetricWarning: Precision is ill-defined and being set to 0.0 due to no predicted samples.\n",
      "  'precision', 'predicted', average, warn_for)\n",
      "/home/eric/anaconda3/lib/python3.7/site-packages/sklearn/linear_model/logistic.py:432: FutureWarning: Default solver will be changed to 'lbfgs' in 0.22. Specify a solver to silence this warning.\n",
      "  FutureWarning)\n",
      "/home/eric/anaconda3/lib/python3.7/site-packages/sklearn/linear_model/logistic.py:432: FutureWarning: Default solver will be changed to 'lbfgs' in 0.22. Specify a solver to silence this warning.\n",
      "  FutureWarning)\n",
      "/home/eric/anaconda3/lib/python3.7/site-packages/sklearn/linear_model/logistic.py:432: FutureWarning: Default solver will be changed to 'lbfgs' in 0.22. Specify a solver to silence this warning.\n",
      "  FutureWarning)\n",
      "/home/eric/anaconda3/lib/python3.7/site-packages/sklearn/linear_model/logistic.py:432: FutureWarning: Default solver will be changed to 'lbfgs' in 0.22. Specify a solver to silence this warning.\n",
      "  FutureWarning)\n",
      "/home/eric/anaconda3/lib/python3.7/site-packages/sklearn/linear_model/logistic.py:432: FutureWarning: Default solver will be changed to 'lbfgs' in 0.22. Specify a solver to silence this warning.\n",
      "  FutureWarning)\n",
      "/home/eric/anaconda3/lib/python3.7/site-packages/sklearn/linear_model/logistic.py:432: FutureWarning: Default solver will be changed to 'lbfgs' in 0.22. Specify a solver to silence this warning.\n",
      "  FutureWarning)\n",
      "/home/eric/anaconda3/lib/python3.7/site-packages/sklearn/linear_model/logistic.py:432: FutureWarning: Default solver will be changed to 'lbfgs' in 0.22. Specify a solver to silence this warning.\n",
      "  FutureWarning)\n",
      "/home/eric/anaconda3/lib/python3.7/site-packages/sklearn/linear_model/logistic.py:432: FutureWarning: Default solver will be changed to 'lbfgs' in 0.22. Specify a solver to silence this warning.\n",
      "  FutureWarning)\n",
      "/home/eric/anaconda3/lib/python3.7/site-packages/sklearn/linear_model/logistic.py:432: FutureWarning: Default solver will be changed to 'lbfgs' in 0.22. Specify a solver to silence this warning.\n",
      "  FutureWarning)\n"
     ]
    }
   ],
   "source": [
    "# Define our training and test sets\n",
    "# NOTE: Because we have time series, we can't split our train and test sets randomly.\n",
    "tscv = TimeSeriesSplit(max_train_size=None, n_splits=5)\n",
    "\n",
    "# Call our classifier. Since we're keeping NAs (in the form of 2.0), \n",
    "# we'll treat this as a multi-class classification problem. \n",
    "clf = OneVsRestClassifier(LogisticRegression(multi_class = 'ovr', \n",
    "                                                random_state = 42))\n",
    "\n",
    "\n",
    "# Create dicts whose keys are the classes and whose values \n",
    "# are the arrays of scores for those classes for our metrics\n",
    "\n",
    "acc = dict()\n",
    "prec = dict()\n",
    "rec = dict()\n",
    "roc_auc = dict()\n",
    "fpr = dict()\n",
    "tpr = dict()\n",
    "\n",
    "for i in range(n_classes):\n",
    "        # Initialize the score arrays for class i\n",
    "        acc[i] = []\n",
    "        prec[i] = []\n",
    "        rec[i] = []\n",
    "        roc_auc[i] = []\n",
    "        fpr[i] = []\n",
    "        tpr[i] = []\n",
    "\n",
    "for train_index, test_index in tscv.split(X):\n",
    "    \n",
    "    # Define indices identifying each pair of CV training and test set\n",
    "    X_train, X_test = X[train_index], X[test_index]\n",
    "    y_train, y_test = y[train_index], y[test_index]\n",
    "    \n",
    "    # Fit our classifier: \n",
    "    clf_fit = clf.fit(X_train, y_train)\n",
    "    \n",
    "    # Learn to predict each class against the other\n",
    "    y_score = clf_fit.predict(X_test)\n",
    "    y_pred_proba = clf_fit.predict_proba(X_test)\n",
    "    \n",
    "    # For each response class and each metric, append our classifier's \n",
    "    # score for that class w.r.t. that metric, on the train-test-split\n",
    "    # under consideration:\n",
    "    for i in range(n_classes):\n",
    "        \n",
    "        # Calculate the scores for class i\n",
    "        accuracy = accuracy_score(y_test[:, i], y_score[:, i])\n",
    "        precision = precision_score(y_test[:, i], y_score[:, i])\n",
    "        recall = recall_score(y_test[:, i], y_score[:, i])\n",
    "        false_pos, true_pos, _ = roc_curve(y_test[:, i], y_pred_proba[:, i])\n",
    "        area_under_curve = auc(false_pos,true_pos)\n",
    "        \n",
    "        acc[i].append(accuracy)\n",
    "        prec[i].append(precision)\n",
    "        rec[i].append(recall)\n",
    "        roc_auc[i].append(area_under_curve)\n",
    "        fpr[i].append(false_pos)\n",
    "        tpr[i].append(true_pos)"
   ]
  },
  {
   "cell_type": "code",
   "execution_count": 9,
   "metadata": {},
   "outputs": [
    {
     "name": "stdout",
     "output_type": "stream",
     "text": [
      "\n",
      "response class:\t 0 \n",
      "accuracy:\t 0.5929712460063898 \n",
      "precision:\t 0.34844949262137476 \n",
      "recall:\t\t 0.3200594145898247 \n",
      "ROC AUC:\t 0.5266844680158627\n",
      "\n",
      "response class:\t 1 \n",
      "accuracy:\t 0.7284345047923322 \n",
      "precision:\t 0.4767596016548897 \n",
      "recall:\t\t 0.33197239612976664 \n",
      "ROC AUC:\t 0.5422328693554712\n",
      "\n",
      "response class:\t 2 \n",
      "accuracy:\t 0.5218317358892438 \n",
      "precision:\t 0.30742934138111233 \n",
      "recall:\t\t 0.6396281481800932 \n",
      "ROC AUC:\t 0.49963781581245853\n"
     ]
    }
   ],
   "source": [
    "# Define a function that aggregates a measure across CV folds\n",
    "def aggregate_across_CVfolds(measure):\n",
    "    measure_df = pd.DataFrame(measure)\n",
    "    measure_agg = []\n",
    "    \n",
    "    for i in range(0,len(measure_df.columns)):\n",
    "        measure_agg.append(measure_df.iloc[:,i].mean())\n",
    "        \n",
    "    return measure_agg\n",
    "\n",
    "fpr_agg = []\n",
    "tpr_agg = []\n",
    "\n",
    "# Replace each array by its mean (that is, mean CV score)\n",
    "for i in range(n_classes):\n",
    "    acc[i] = np.mean(acc[i])\n",
    "    prec[i] = np.mean(prec[i])\n",
    "    rec[i] = np.mean(rec[i])\n",
    "    roc_auc[i] = np.mean(roc_auc[i])\n",
    "\n",
    "    fpr_agg.append(aggregate_across_CVfolds(fpr[i]))\n",
    "    tpr_agg.append(aggregate_across_CVfolds(tpr[i]))\n",
    "\n",
    "        \n",
    "    print(\"\\nresponse class:\\t\", i, \n",
    "          \"\\naccuracy:\\t\",acc[i],\n",
    "          \"\\nprecision:\\t\",prec[i],\n",
    "          \"\\nrecall:\\t\\t\",rec[i],\n",
    "          \"\\nROC AUC:\\t\",roc_auc[i])"
   ]
  },
  {
   "cell_type": "markdown",
   "metadata": {},
   "source": [
    "#### Plot ROC Curves:"
   ]
  },
  {
   "cell_type": "code",
   "execution_count": 10,
   "metadata": {
    "scrolled": true
   },
   "outputs": [
    {
     "data": {
      "text/plain": [
       "<Figure size 640x480 with 1 Axes>"
      ]
     },
     "metadata": {},
     "output_type": "display_data"
    },
    {
     "data": {
      "text/plain": [
       "<Figure size 640x480 with 1 Axes>"
      ]
     },
     "metadata": {},
     "output_type": "display_data"
    },
    {
     "data": {
      "text/plain": [
       "<Figure size 640x480 with 1 Axes>"
      ]
     },
     "metadata": {},
     "output_type": "display_data"
    }
   ],
   "source": [
    "# Plot of a ROC curve for each response class on each cross validation fold\n",
    "import matplotlib.pyplot as plt\n",
    "plt.style.use(\"ggplot\")\n",
    "\n",
    "# For each response class i\n",
    "for i in range(0,3):\n",
    "        \n",
    "    # Plot the ROC curve for class i\n",
    "    plt.plot(fpr_agg[i], tpr_agg[i], color='darkorange',\n",
    "    lw=2, label='ROC curve (area = %0.2f)' % roc_auc[i])\n",
    "    plt.plot([0, 1], [0, 1], color='navy', lw=2, linestyle='--')\n",
    "    plt.xlim([0.0, 1.0])\n",
    "    plt.ylim([0.0, 1.05])\n",
    "    plt.xlabel('False Positive Rate')\n",
    "    plt.ylabel('True Positive Rate')\n",
    "    plt.title('ROC Curve for Response Class '+str(i))\n",
    "    plt.legend(loc=\"lower right\")\n",
    "    plt.tight_layout()\n",
    "    plt.savefig(intro + \"modeling-eric/visualizations/upsampled_multi_class/ROC_\" + \"resp_category\"+str(i)+\".png\")\n",
    "    plt.show()"
   ]
  }
 ],
 "metadata": {
  "kernelspec": {
   "display_name": "Python 3",
   "language": "python",
   "name": "python3"
  },
  "language_info": {
   "codemirror_mode": {
    "name": "ipython",
    "version": 3
   },
   "file_extension": ".py",
   "mimetype": "text/x-python",
   "name": "python",
   "nbconvert_exporter": "python",
   "pygments_lexer": "ipython3",
   "version": "3.7.4"
  }
 },
 "nbformat": 4,
 "nbformat_minor": 2
}
