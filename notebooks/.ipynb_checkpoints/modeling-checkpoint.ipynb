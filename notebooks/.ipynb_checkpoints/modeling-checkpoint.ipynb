{
 "cells": [
  {
   "cell_type": "markdown",
   "metadata": {},
   "source": [
    "## Fit a Logistic Regression and a Gradient Boosted Tree"
   ]
  },
  {
   "cell_type": "code",
   "execution_count": 25,
   "metadata": {},
   "outputs": [],
   "source": [
    "import pandas as pd\n",
    "import numpy as np\n",
    "from sklearn.preprocessing import StandardScaler, label_binarize\n",
    "from sklearn.linear_model import LogisticRegression\n",
    "from sklearn.model_selection import TimeSeriesSplit\n",
    "from sklearn.pipeline import Pipeline\n",
    "from sklearn.metrics import accuracy_score, precision_score, recall_score,roc_auc_score, auc, roc_curve\n",
    "from sklearn.multiclass import OneVsRestClassifier"
   ]
  },
  {
   "cell_type": "code",
   "execution_count": 26,
   "metadata": {},
   "outputs": [],
   "source": [
    "intro = \"/media/eric/nachmanides/programming/projects/post-program_project/\"\n",
    "df = pd.read_pickle(intro+\"modeling-eric/data/final_df.pkl\")"
   ]
  },
  {
   "cell_type": "code",
   "execution_count": 27,
   "metadata": {},
   "outputs": [],
   "source": [
    "# df = df[(df.safe == 0.0) | (df.safe == 1.0)]"
   ]
  },
  {
   "cell_type": "code",
   "execution_count": 28,
   "metadata": {},
   "outputs": [],
   "source": [
    "# Let the sunrise_delta and sunset_delta be, for the day of each timebin, the elapsed \n",
    "# time between midnight of that day and sunrise (respectively, sunset) on that day. \n",
    "\n",
    "midnight = df['sunrise_time'].apply(lambda x: x.round(freq = 'd'))\n",
    "df['sunrise_delta'] = (df['sunrise_time'] - midnight)  / np.timedelta64(1,'m')\n",
    "df['sunset_delta'] = (df['sunset_time'] - midnight)  / np.timedelta64(1,'m')"
   ]
  },
  {
   "cell_type": "code",
   "execution_count": 29,
   "metadata": {},
   "outputs": [],
   "source": [
    "# We will drop sunrise time and sunset time, since those predictors are hard to \n",
    "# compare with the others, and NaTs can't be fed into StandardScaler. We will \n",
    "# instead use sunrise_delta and sunset_delta as measures of how early or late \n",
    "# sunrise and sunset are on each day. \n",
    "df = df.drop(['sunrise_time','sunset_time'],axis=1)"
   ]
  },
  {
   "cell_type": "code",
   "execution_count": 30,
   "metadata": {},
   "outputs": [],
   "source": [
    "# Get just the predictors\n",
    "pred = df.drop('safe',axis=1)\n",
    "\n",
    "# Impute means of each column\n",
    "pred = pred.fillna(pred.mean())\n",
    "\n",
    "scaler = StandardScaler()\n",
    "scaler.fit(pred)\n",
    "X = scaler.transform(pred)\n",
    "y = df.safe\n",
    "\n",
    "# Binarize the output\n",
    "y = label_binarize(y, classes=[0, 1, 2])\n",
    "n_classes = y.shape[1]"
   ]
  },
  {
   "cell_type": "code",
   "execution_count": 31,
   "metadata": {
    "scrolled": true
   },
   "outputs": [
    {
     "name": "stderr",
     "output_type": "stream",
     "text": [
      "/home/eric/anaconda3/lib/python3.7/site-packages/sklearn/metrics/classification.py:1437: UndefinedMetricWarning: Precision is ill-defined and being set to 0.0 due to no predicted samples.\n",
      "  'precision', 'predicted', average, warn_for)\n",
      "/home/eric/anaconda3/lib/python3.7/site-packages/sklearn/metrics/classification.py:1437: UndefinedMetricWarning: Precision is ill-defined and being set to 0.0 due to no predicted samples.\n",
      "  'precision', 'predicted', average, warn_for)\n",
      "/home/eric/anaconda3/lib/python3.7/site-packages/sklearn/metrics/classification.py:1437: UndefinedMetricWarning: Precision is ill-defined and being set to 0.0 due to no predicted samples.\n",
      "  'precision', 'predicted', average, warn_for)\n",
      "/home/eric/anaconda3/lib/python3.7/site-packages/sklearn/metrics/classification.py:1437: UndefinedMetricWarning: Precision is ill-defined and being set to 0.0 due to no predicted samples.\n",
      "  'precision', 'predicted', average, warn_for)\n",
      "/home/eric/anaconda3/lib/python3.7/site-packages/sklearn/metrics/classification.py:1437: UndefinedMetricWarning: Precision is ill-defined and being set to 0.0 due to no predicted samples.\n",
      "  'precision', 'predicted', average, warn_for)\n"
     ]
    }
   ],
   "source": [
    "# Define our training and test sets\n",
    "# NOTE: Because we have time series, we can't split our train and test sets randomly.\n",
    "tscv = TimeSeriesSplit(max_train_size=None, n_splits=5)\n",
    "\n",
    "# Call our classifier. Since we're keeping NAs (in the form of 2.0), \n",
    "# we'll treat this as a multi-class classification problem. \n",
    "clf = OneVsRestClassifier(LogisticRegression(solver = 'lbfgs', \n",
    "                                                multi_class = 'ovr', \n",
    "                                                random_state = 42))\n",
    "\n",
    "\n",
    "# Create dicts whose keys are the classes and whose values \n",
    "# are the arrays of scores for those classes for our metrics\n",
    "\n",
    "acc = dict()\n",
    "prec = dict()\n",
    "rec = dict()\n",
    "roc_auc = dict()\n",
    "\n",
    "for i in range(n_classes):\n",
    "        # Initialize the score arrays for class i\n",
    "        acc[i] = []\n",
    "        prec[i] = []\n",
    "        rec[i] = []\n",
    "        roc_auc[i] = []\n",
    "\n",
    "for train_index, test_index in tscv.split(X):\n",
    "    \n",
    "    # Define indices identifying each pair of CV training and test set\n",
    "    X_train, X_test = X[train_index], X[test_index]\n",
    "    y_train, y_test = y[train_index], y[test_index]\n",
    "\n",
    "    # Learn to predict each class against the other\n",
    "    y_score = clf.fit(X_train, y_train).predict(X_test)\n",
    "    \n",
    "    \n",
    "    # For each response class and each metric, append our classifier's \n",
    "    # score for that class w.r.t. that metric, on the train-test-split\n",
    "    # under consideration:\n",
    "    for i in range(n_classes):\n",
    "        \n",
    "        # Calculate the scores for class i\n",
    "        accuracy = accuracy_score(y_test[:, i], y_score[:, i])\n",
    "        precision = precision_score(y_test[:, i], y_score[:, i])\n",
    "        recall = recall_score(y_test[:, i], y_score[:, i])\n",
    "        false_pos, true_pos, _ = roc_curve(y_test[:, i], y_score[:, i])\n",
    "        area_under_curve = auc(false_pos,true_pos)\n",
    "        \n",
    "        acc[i].append(accuracy)\n",
    "        prec[i].append(precision)\n",
    "        rec[i].append(recall)\n",
    "        roc_auc[i].append(area_under_curve)    \n",
    "        \n",
    "#     # Compute micro-average ROC curve and ROC area\n",
    "#     fpr[\"micro\"], tpr[\"micro\"], _ = roc_curve(y_test.ravel(), y_score.ravel())\n",
    "#     roc_auc[\"micro\"] = auc(fpr[\"micro\"], tpr[\"micro\"])"
   ]
  },
  {
   "cell_type": "code",
   "execution_count": 32,
   "metadata": {},
   "outputs": [
    {
     "data": {
      "text/plain": [
       "{0: [0.5, 0.5, 0.5, 0.5, 0.5],\n",
       " 1: [0.5, 0.5, 0.5, 0.7486130374479889, 0.5],\n",
       " 2: [0.5, 0.5, 0.5, 0.5318443443443444, 0.4952076677316294]}"
      ]
     },
     "execution_count": 32,
     "metadata": {},
     "output_type": "execute_result"
    }
   ],
   "source": [
    "roc_auc"
   ]
  },
  {
   "cell_type": "code",
   "execution_count": 37,
   "metadata": {},
   "outputs": [
    {
     "name": "stdout",
     "output_type": "stream",
     "text": [
      "\n",
      "response class:\t 0 \n",
      "accuracy:\t 0.98328173374613 \n",
      "precision:\t 0.0 \n",
      "recall:\t\t 0.0 \n",
      "ROC AUC:\t 0.5\n",
      "\n",
      "response class:\t 1 \n",
      "accuracy:\t 0.9591331269349845 \n",
      "precision:\t 0.03333333333333333 \n",
      "recall:\t\t 0.1285714285714286 \n",
      "ROC AUC:\t 0.5497226074895978\n",
      "\n",
      "response class:\t 2 \n",
      "accuracy:\t 0.94984520123839 \n",
      "precision:\t 0.9657198405678061 \n",
      "recall:\t\t 0.9811911752007598 \n",
      "ROC AUC:\t 0.5054104024151947\n"
     ]
    }
   ],
   "source": [
    "# Replace each array by its mean\n",
    "for i in range(n_classes):\n",
    "        acc[i] = np.mean(acc[i])\n",
    "        prec[i] = np.mean(prec[i])\n",
    "        rec[i] = np.mean(rec[i])\n",
    "        roc_auc[i] = np.mean(roc_auc[i])\n",
    "\n",
    "        print(\"\\nresponse class:\\t\", i, \n",
    "              \"\\naccuracy:\\t\",acc[i],\n",
    "              \"\\nprecision:\\t\",prec[i],\n",
    "              \"\\nrecall:\\t\\t\",rec[i],\n",
    "              \"\\nROC AUC:\\t\",roc_auc[i])"
   ]
  },
  {
   "cell_type": "markdown",
   "metadata": {},
   "source": [
    "## For Later:"
   ]
  },
  {
   "cell_type": "code",
   "execution_count": null,
   "metadata": {},
   "outputs": [],
   "source": [
    "# # Plot of a ROC curve for a specific class\n",
    "\n",
    "# plt.figure()\n",
    "# lw = 2\n",
    "# plt.plot(fpr[2], tpr[2], color='darkorange',\n",
    "#          lw=lw, label='ROC curve (area = %0.2f)' % roc_auc[2])\n",
    "# plt.plot([0, 1], [0, 1], color='navy', lw=lw, linestyle='--')\n",
    "# plt.xlim([0.0, 1.0])\n",
    "# plt.ylim([0.0, 1.05])\n",
    "# plt.xlabel('False Positive Rate')\n",
    "# plt.ylabel('True Positive Rate')\n",
    "# plt.title('Receiver operating characteristic example')\n",
    "# plt.legend(loc=\"lower right\")\n",
    "# plt.show()"
   ]
  },
  {
   "cell_type": "code",
   "execution_count": null,
   "metadata": {},
   "outputs": [],
   "source": [
    "# from sklearn.metrics import roc_auc_score, roc_curve\n",
    "\n",
    "# def roc_auc(model,model_name, X_test, y_test):\n",
    "#     # generate a no skill prediction (majority class)\n",
    "#     ns_probs = [0 for _ in range(len(y_test))]\n",
    "#     # predict probabilities\n",
    "#     lr_probs = model.predict_proba(X_test)\n",
    "#     # # keep probabilities for the positive outcome only\n",
    "#     lr_probs = lr_probs[:, 1]\n",
    "#     # calculate scores\n",
    "#     ns_auc = roc_auc_score(y_test, ns_probs)\n",
    "#     lr_auc = roc_auc_score(y_test, lr_probs)\n",
    "#     # summarize scores\n",
    "#     print('No Skill: ROC AUC=%.3f' % (ns_auc))\n",
    "#     print(model_name+': ROC AUC=%.3f' % (lr_auc))\n",
    "#     # calculate roc curves\n",
    "#     ns_fpr, ns_tpr, _ = roc_curve(y_test, ns_probs)\n",
    "#     lr_fpr, lr_tpr, _ = roc_curve(y_test, lr_probs)\n",
    "#     # plot the roc curve for the model\n",
    "#     plt.figure()\n",
    "#     plt.plot(ns_fpr, ns_tpr, linestyle='--', label='No Skill')\n",
    "#     plt.plot(lr_fpr, lr_tpr, marker='.', label=model_name)\n",
    "#     # axis labels\n",
    "#     plt.xlabel('False Positive Rate')\n",
    "#     plt.ylabel('True Positive Rate')\n",
    "#     plt.legend(); plt.show()\n"
   ]
  }
 ],
 "metadata": {
  "kernelspec": {
   "display_name": "Python 3",
   "language": "python",
   "name": "python3"
  },
  "language_info": {
   "codemirror_mode": {
    "name": "ipython",
    "version": 3
   },
   "file_extension": ".py",
   "mimetype": "text/x-python",
   "name": "python",
   "nbconvert_exporter": "python",
   "pygments_lexer": "ipython3",
   "version": "3.7.4"
  }
 },
 "nbformat": 4,
 "nbformat_minor": 2
}
