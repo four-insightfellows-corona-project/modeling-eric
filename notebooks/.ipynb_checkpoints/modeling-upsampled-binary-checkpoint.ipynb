{
 "cells": [
  {
   "cell_type": "markdown",
   "metadata": {},
   "source": [
    "## Fit and Validate a Logistic Regression"
   ]
  },
  {
   "cell_type": "code",
   "execution_count": 1,
   "metadata": {},
   "outputs": [],
   "source": [
    "import pandas as pd\n",
    "import numpy as np\n",
    "from sklearn.preprocessing import StandardScaler, label_binarize\n",
    "from sklearn.linear_model import LogisticRegression\n",
    "from sklearn.model_selection import TimeSeriesSplit\n",
    "from sklearn.pipeline import Pipeline\n",
    "from sklearn.metrics import accuracy_score, precision_score, recall_score,roc_auc_score, auc, roc_curve\n",
    "from sklearn.multiclass import OneVsRestClassifier"
   ]
  },
  {
   "cell_type": "code",
   "execution_count": 2,
   "metadata": {},
   "outputs": [],
   "source": [
    "intro = \"/media/eric/nachmanides/programming/projects/post-program_project/\"\n",
    "df = pd.read_pickle(intro+\"modeling-eric/data/final_df.pkl\")"
   ]
  },
  {
   "cell_type": "code",
   "execution_count": 3,
   "metadata": {},
   "outputs": [],
   "source": [
    "# OPTIONAL: Drop all NAs in the response variable\n",
    "df = df[(df.safe == 0.0) | (df.safe == 1.0)]"
   ]
  },
  {
   "cell_type": "markdown",
   "metadata": {},
   "source": [
    "### Preprocessing"
   ]
  },
  {
   "cell_type": "markdown",
   "metadata": {},
   "source": [
    "#### Find a manageable way to represent the sunrise and sunset times"
   ]
  },
  {
   "cell_type": "code",
   "execution_count": 4,
   "metadata": {},
   "outputs": [],
   "source": [
    "# Let the sunrise_delta and sunset_delta be, for the day of each timebin, the elapsed \n",
    "# time between midnight of that day and sunrise (respectively, sunset) on that day. \n",
    "\n",
    "midnight = df['sunrise_time'].apply(lambda x: x.round(freq = 'd'))\n",
    "df['sunrise_delta'] = (df['sunrise_time'] - midnight)  / np.timedelta64(1,'m')\n",
    "df['sunset_delta'] = (df['sunset_time'] - midnight)  / np.timedelta64(1,'m')"
   ]
  },
  {
   "cell_type": "code",
   "execution_count": 5,
   "metadata": {},
   "outputs": [],
   "source": [
    "# We will now drop sunrise time and sunset time, since those predictors are hard to \n",
    "# compare with the others, and NaTs can't be fed into StandardScaler. We will \n",
    "# instead use sunrise_delta and sunset_delta as measures of how early or late \n",
    "# sunrise and sunset are on each day. \n",
    "df = df.drop(['sunrise_time','sunset_time'],axis=1)"
   ]
  },
  {
   "cell_type": "markdown",
   "metadata": {},
   "source": [
    "#### Further Preprocessing: \n",
    "#### 1. Upsample minority class of 0 and 1 to make them even and then upsample both 0 and 1 classes.\n",
    "#### 2. Differentiate predictors from response\n",
    "#### 3. Fill predictor NAs with column means\n",
    "#### 4. Standardize predictors\n",
    "#### 5. Binarize categorical predictors"
   ]
  },
  {
   "cell_type": "code",
   "execution_count": 6,
   "metadata": {},
   "outputs": [
    {
     "data": {
      "text/plain": [
       "0.0    1000\n",
       "1.0    1000\n",
       "Name: safe, dtype: int64"
      ]
     },
     "execution_count": 6,
     "metadata": {},
     "output_type": "execute_result"
    }
   ],
   "source": [
    "# to deal with unbalanced data, try upsampling\n",
    "from sklearn.utils import resample\n",
    "\n",
    "# Separate majority and minority classes\n",
    "df_mj = df[df.safe==0.0] # safe\n",
    "df_mi = df[df.safe==1.0] # unsafe\n",
    " \n",
    "# Upsample minority class, with replacement \n",
    "df_mi_up = resample(df_mi, replace=True, n_samples=len(df_mj), random_state=42) \n",
    "\n",
    "## Now upsample both classes\n",
    "n_target = 1000\n",
    "df_mi_re = resample(df_mi_up, replace=True, n_samples=n_target, random_state=42) \n",
    "df_mj_re = resample(df_mj, replace=True, n_samples=n_target, random_state=42) \n",
    " \n",
    "# Combine majority class with upsampled minority class\n",
    "df_re= pd.concat([df_mj_re, df_mi_re])\n",
    " \n",
    "# Re-sort index so our timebins are ordered again\n",
    "df_re = df_re.sort_index()\n",
    "\n",
    "# Set variable 'df' to df_up\n",
    "df = df_re\n",
    "\n",
    "# Display new class counts\n",
    "df.safe.value_counts()"
   ]
  },
  {
   "cell_type": "code",
   "execution_count": 7,
   "metadata": {},
   "outputs": [],
   "source": [
    "# Get just the unprocessed predictor columns\n",
    "pred = df.drop('safe',axis=1)\n",
    "\n",
    "# Impute means of each column\n",
    "pred = pred.fillna(pred.mean())\n",
    "\n",
    "# Standardize the predictors\n",
    "scaler = StandardScaler()\n",
    "scaler.fit(pred)\n",
    "\n",
    "# # Define the predictors that we will train on\n",
    "X = scaler.transform(pred)\n",
    "\n",
    "# Binarize the response variable classes and save the result as our response \"column(s)\"\n",
    "y = df.safe"
   ]
  },
  {
   "cell_type": "markdown",
   "metadata": {},
   "source": [
    "### Split, Train, and Validate our Classifier"
   ]
  },
  {
   "cell_type": "code",
   "execution_count": 8,
   "metadata": {
    "scrolled": false
   },
   "outputs": [
    {
     "name": "stderr",
     "output_type": "stream",
     "text": [
      "/home/eric/anaconda3/lib/python3.7/site-packages/sklearn/linear_model/logistic.py:432: FutureWarning: Default solver will be changed to 'lbfgs' in 0.22. Specify a solver to silence this warning.\n",
      "  FutureWarning)\n",
      "/home/eric/anaconda3/lib/python3.7/site-packages/sklearn/linear_model/logistic.py:432: FutureWarning: Default solver will be changed to 'lbfgs' in 0.22. Specify a solver to silence this warning.\n",
      "  FutureWarning)\n",
      "/home/eric/anaconda3/lib/python3.7/site-packages/sklearn/linear_model/logistic.py:432: FutureWarning: Default solver will be changed to 'lbfgs' in 0.22. Specify a solver to silence this warning.\n",
      "  FutureWarning)\n",
      "/home/eric/anaconda3/lib/python3.7/site-packages/sklearn/linear_model/logistic.py:432: FutureWarning: Default solver will be changed to 'lbfgs' in 0.22. Specify a solver to silence this warning.\n",
      "  FutureWarning)\n",
      "/home/eric/anaconda3/lib/python3.7/site-packages/sklearn/linear_model/logistic.py:432: FutureWarning: Default solver will be changed to 'lbfgs' in 0.22. Specify a solver to silence this warning.\n",
      "  FutureWarning)\n"
     ]
    }
   ],
   "source": [
    "# Define our training and test sets\n",
    "# NOTE: Because we have time series, we can't split our train and test sets randomly.\n",
    "tscv = TimeSeriesSplit(max_train_size=None, n_splits=5)\n",
    "\n",
    "clf = LogisticRegression(random_state=42)\n",
    "\n",
    "# Create dicts whose keys are the classes and whose values \n",
    "# are the arrays of scores for those classes for our metrics\n",
    "\n",
    "acc = []\n",
    "prec = []\n",
    "rec = []\n",
    "roc_auc = []\n",
    "fpr = []\n",
    "tpr = []\n",
    "\n",
    "for train_index, test_index in tscv.split(X):\n",
    "    \n",
    "    # Define indices identifying each pair of CV training and test set\n",
    "    X_train, X_test = X[train_index], X[test_index]\n",
    "    y_train, y_test = y[train_index], y[test_index]\n",
    "    \n",
    "    # Learn to predict each class against the other\n",
    "    clf_fit = clf.fit(X_train, y_train)\n",
    "    y_score = clf_fit.predict(X_test)\n",
    "    y_pred_proba = clf_fit.predict_proba(X_test)[:,-1]\n",
    "        \n",
    "    # Calculate the scores for class i\n",
    "    accuracy = accuracy_score(y_test, y_score)\n",
    "    precision = precision_score(y_test, y_score)\n",
    "    recall = recall_score(y_test, y_score)\n",
    "    false_pos, true_pos, _ = roc_curve(y_test, y_pred_proba, pos_label=1.0)\n",
    "    area_under_curve = auc(false_pos,true_pos)\n",
    "        \n",
    "    acc.append(accuracy)\n",
    "    prec.append(precision)\n",
    "    rec.append(recall)\n",
    "    roc_auc.append(area_under_curve)\n",
    "    fpr.append(false_pos)\n",
    "    tpr.append(true_pos)"
   ]
  },
  {
   "cell_type": "code",
   "execution_count": 9,
   "metadata": {
    "scrolled": true
   },
   "outputs": [
    {
     "name": "stdout",
     "output_type": "stream",
     "text": [
      "\n",
      "accuracy:\t 0.6024024024024024 \n",
      "precision:\t 0.47297923618835747 \n",
      "recall:\t\t 0.4557786116322702 \n",
      "ROC AUC:\t 0.6847032536145707\n"
     ]
    }
   ],
   "source": [
    "# Replace each array by its mean (that is, mean CV score)\n",
    "acc = np.mean(acc)\n",
    "prec = np.mean(prec)\n",
    "rec = np.mean(rec)\n",
    "roc_auc = np.mean(roc_auc)\n",
    "\n",
    "def aggregate_across_CVfolds(measure):\n",
    "    measure_df = pd.DataFrame(measure)\n",
    "    measure_agg = []\n",
    "    for i in range(0,len(measure_df.columns)):\n",
    "        measure_agg.append(measure_df.iloc[:,i].mean())\n",
    "    \n",
    "    return measure_agg\n",
    "\n",
    "fpr_agg = aggregate_across_CVfolds(fpr)\n",
    "tpr_agg = aggregate_across_CVfolds(tpr)\n",
    "\n",
    "print(\"\\naccuracy:\\t\",acc,\n",
    "      \"\\nprecision:\\t\",prec,\n",
    "      \"\\nrecall:\\t\\t\",rec,\n",
    "      \"\\nROC AUC:\\t\",roc_auc)"
   ]
  },
  {
   "cell_type": "markdown",
   "metadata": {},
   "source": [
    "#### Plot ROC Curves:"
   ]
  },
  {
   "cell_type": "code",
   "execution_count": 10,
   "metadata": {
    "scrolled": true
   },
   "outputs": [
    {
     "data": {
      "text/plain": [
       "<Figure size 640x480 with 1 Axes>"
      ]
     },
     "metadata": {},
     "output_type": "display_data"
    }
   ],
   "source": [
    "# Plot of a ROC curve for each response class on each cross validation fold\n",
    "import matplotlib.pyplot as plt\n",
    "plt.style.use(\"ggplot\")\n",
    "\n",
    "# Plot the ROC curve for class i on fold j\n",
    "plt.plot(fpr_agg, tpr_agg, color='darkorange',\n",
    "label='ROC curve (area = %0.2f)' % roc_auc)\n",
    "plt.plot([0, 1], [0, 1], color='navy', linestyle='--')\n",
    "plt.xlim([0.0, 1.0])\n",
    "plt.ylim([0.0, 1.05])\n",
    "plt.xlabel('False Positive Rate')\n",
    "plt.ylabel('True Positive Rate')\n",
    "plt.title('ROC Curve - Upsampled & Binary')\n",
    "plt.legend(loc=\"lower right\")\n",
    "plt.tight_layout()\n",
    "plt.savefig(intro + \"modeling-eric/visualizations/upsampled_binary/ROC_upsampled_binary.png\")\n",
    "plt.show()"
   ]
  }
 ],
 "metadata": {
  "kernelspec": {
   "display_name": "Python 3",
   "language": "python",
   "name": "python3"
  },
  "language_info": {
   "codemirror_mode": {
    "name": "ipython",
    "version": 3
   },
   "file_extension": ".py",
   "mimetype": "text/x-python",
   "name": "python",
   "nbconvert_exporter": "python",
   "pygments_lexer": "ipython3",
   "version": "3.7.4"
  }
 },
 "nbformat": 4,
 "nbformat_minor": 2
}
